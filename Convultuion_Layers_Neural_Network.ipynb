{
  "nbformat": 4,
  "nbformat_minor": 0,
  "metadata": {
    "colab": {
      "provenance": []
    },
    "kernelspec": {
      "name": "python3",
      "display_name": "Python 3"
    },
    "language_info": {
      "name": "python"
    }
  },
  "cells": [
    {
      "cell_type": "code",
      "execution_count": 7,
      "metadata": {
        "colab": {
          "base_uri": "https://localhost:8080/"
        },
        "id": "sFFTIAT9DMi9",
        "outputId": "506624be-9b81-4f57-b3d2-c78b7ca0e804"
      },
      "outputs": [
        {
          "output_type": "stream",
          "name": "stdout",
          "text": [
            "Mounted at /content/drive\n"
          ]
        }
      ],
      "source": [
        "from google.colab import drive\n",
        "drive.mount('/content/drive')"
      ]
    },
    {
      "cell_type": "code",
      "source": [
        "import pandas as pd\n",
        "\n",
        "train_df = pd.read_parquet('/content/drive/MyDrive/Alzheimer Data/Train.parquet')\n",
        "test_df = pd.read_parquet('/content/drive/MyDrive/Alzheimer Data/Test.parquet')\n",
        "\n",
        "print( train_df.columns )\n",
        "print( test_df.columns )"
      ],
      "metadata": {
        "colab": {
          "base_uri": "https://localhost:8080/"
        },
        "id": "-pQ0PMTxDRbb",
        "outputId": "1443c5d1-61bb-44e8-e566-168d4a0a34b2"
      },
      "execution_count": 8,
      "outputs": [
        {
          "output_type": "stream",
          "name": "stdout",
          "text": [
            "Index(['image', 'label'], dtype='object')\n",
            "Index(['image', 'label'], dtype='object')\n"
          ]
        }
      ]
    },
    {
      "cell_type": "code",
      "source": [
        "print( train_df['image'].iloc[0] ) # Since we figured each image is a dictionary we will print it out"
      ],
      "metadata": {
        "colab": {
          "base_uri": "https://localhost:8080/"
        },
        "id": "gM3ufOc0JKU7",
        "outputId": "0c56ff2f-8114-4bb5-c28a-8124a7829294"
      },
      "execution_count": 9,
      "outputs": [
        {
          "output_type": "stream",
          "name": "stdout",
          "text": [
            "{'bytes': b'\\xff\\xd8\\xff\\xe0\\x00\\x10JFIF\\x00\\x01\\x01\\x01\\x01,\\x01,\\x00\\x00\\xff\\xdb\\x00C\\x00\\x03\\x02\\x02\\x03\\x02\\x02\\x03\\x03\\x03\\x03\\x04\\x03\\x03\\x04\\x05\\x08\\x05\\x05\\x04\\x04\\x05\\n\\x07\\x07\\x06\\x08\\x0c\\n\\x0c\\x0c\\x0b\\n\\x0b\\x0b\\r\\x0e\\x12\\x10\\r\\x0e\\x11\\x0e\\x0b\\x0b\\x10\\x16\\x10\\x11\\x13\\x14\\x15\\x15\\x15\\x0c\\x0f\\x17\\x18\\x16\\x14\\x18\\x12\\x14\\x15\\x14\\xff\\xc0\\x00\\x0b\\x08\\x00\\x80\\x00\\x80\\x01\\x01\\x11\\x00\\xff\\xc4\\x00\\x1d\\x00\\x00\\x02\\x03\\x01\\x01\\x01\\x01\\x01\\x00\\x00\\x00\\x00\\x00\\x00\\x00\\x00\\x00\\x07\\x05\\x06\\x08\\x04\\x02\\x03\\x01\\t\\xff\\xc4\\x008\\x10\\x00\\x01\\x03\\x03\\x03\\x02\\x05\\x03\\x01\\x05\\x08\\x03\\x00\\x00\\x00\\x00\\x01\\x02\\x03\\x04\\x00\\x05\\x11\\x06\\x07\\x12!1\\x13\"AQa\\x142q\\x81\\x08\\x15R\\x91\\xa1#$3Bb\\x92\\xb1\\xd1\\x16r\\x82\\xff\\xda\\x00\\x08\\x01\\x01\\x00\\x00?\\x00\\xfeUQE\\x14QE\\x14QE\\x14QE\\x14QE\\x14W\\xea\\x1bS\\x8bJ\\x12\\x92\\xa5(\\xe0$\\x0c\\x92\\x7f\\x157\\x07BjK\\x9a\\x1c\\\\;\\x05\\xceRZ\\xfb\\xd4\\xd4G\\x14\\x13\\xf9\\xc0\\xe9\\xd8\\xd4l\\xfbL\\xdbZ\\xf8\\xcc\\x86\\xfcU{<\\xd9G\\xcf\\xadu\\xda\\xb4\\x95\\xee\\xfaH\\xb6\\xd9\\xe7O\\xc63\\xf4\\xd1\\x96\\xe63\\xdb\\xb0\\xae\\xe9\\xfbm\\xab-q\\x9c\\x913L\\xdd\\xa2\\xb0\\xd8\\xe4\\xb7\\x1e\\x84\\xe2R\\x91\\xeeI\\x1d*\\xb8\\x01=\\x86h\\xa2\\x8a(\\xa2\\x8a(\\t*8\\x00\\x93\\xec)\\x8b`\\xd9{\\xdc\\xeb\\x1a\\xafS\\x18Tx) \\x86O\\xf8\\xae\\x0f|z\\x0f\\xeb\\xf1OM\\xb6\\x8bf\\xb4A\\x8d\\x1e}\\xbe>\\x94\\x92\\xd7\\x98*<Nr\\x9f\\x1f\\xc4\\x97\\x14\\n\\x81#\\xbe=*\\xcb\\xaa\\xb5\\xbb\\xb7\\x9b\\x92![\\x91pR\\x9dO\\x83\\x15\\xb5\\xb4\\xa4\\xa5D\\xf4+R\\x88\\x195O\\xd4\\xfbu\\'@@\\x89\\x1eu\\xdd3\\x1e\\x9a\\xbc*+\\x98\\xf2(\\x9c\\xf9Ot\\xfc\\xfb\\xd5\\xe3ht6\\xa6\\xd3\\xf3?y:\\xd3o\\xb0\\xf8J\\x94\\xca\\\\\\xc1\\x1e\\xc4zv\\xa9\\x1d\\xe1\\xb2C\\x81g\\x9c\\r\\xe6kR\\x96<A\\x1d\\xc7|\\xbd}>G\\xc5AI\\xd9+\\x1e\\xb6\\xd0\\xb0\\x1c\\x99\\x01\\xa8\\x8a\\t\\x1cf\\xc7)B\\xdb<zeX\\xea\\x0f\\xb1\\xc8\\xac\\xeb\\xba;\\x15s\\xdb\\xecH\\x8e\\xfan\\xb6\\xe5\\x13\\xfd\\xa3@so\\xff\\x00`\\t\\x07\\xf2)^F\\r\\x14QE\\x15\\xe9\\xb6\\x94\\xea\\xd2\\x94$\\xa9J \\x00;\\x93O\\xbd\\x9e\\xd9\\xa8\\xcbm\\xab\\xb5\\xe5\\xf6\\x12\\xef^,-@\\xf8G\\xd3#\\xf8\\xbf\\xe2\\xb4\\xfe\\x8f\\xb7\\xda\\x0co\\xdd\\xb3e\\xb1)\\xa7\\x16\\x9f\\x05\\x01$\\x14\\xa8v\\x07\\xde\\xbc_4\\xf4\\x81\\xac\\x90\\xf4+J_C\\x04#\\x80N\\x02G\\xbf\\xebR\\x1a\\xe3Z\\xdb\\xb4\\x1b\\xb6\\x95\\xbfm`;!\\xc4\\x87\\x1c $1\\x9aR\\xef\\x7f\\xfe3y\\xf0n\\xd6\\xf9\\xb1\\xdc\\xba\\xa9iR\\xff\\x00\\xbc\\x02\\xb1\\x93\\xd9=q^\\x04\\xad\\\\\\xd6\\x90\\x8b\\x1a\\xd9lu\\xb7\\x10R\\xa3,J\\nR\\xc0?\\x8fozii\\xb9\\xf6M\\xd2\\xb1&\\x1c\\xe6J\\xee\\xf1\\xda(Rd\\'\\x0b\\n\\x19\\xee\\r{]\\x95\\x9d\\x1f\\xb6\\xef\\xc0\\xbc\\xbc\\x90\\xd9p\\xad\\x94\\x83\\xd4\\n@^4\\xd6\\xa1\\xd6W^\\x16\\xb6dC\\xb4\\x92\\x00\\x05\\xdc\\x95\\xe3\\xd5)\\xaa6\\xeel\\x8b\\xfaj\\x12n1I[\\x83\\xfcv\\x88\\x01J\\xff\\x00V=\\xfd\\xc5%\\xa8\\xa2\\x8a\\x00\\xcd0\\xb6\\xdbJ9!\\xf6\\xa7\\xbb\\x0b\\xea]Q\\x02+\\x0e$\\x8c\\xa8\\xa8%.c\\x18#$\\xff\\x00\\xb4\\xd6\\x9a\\xb4A\\xb3X\\x92\\x9be\\xf1\\x92\\xd6\\x07$\\xcaBx\\xe5G\\xb9\\xab>\\x89\\xd1\\x1aYZ\\x81\\x89\\xb6\\xdb\\xdb\\xc0!\\\\\\x94\\xc3\\x87\\t>\\xc0\\xf5\\xab\\xd6\\xbd\\xd4\\x8e\\xe8\\xfb*\\xe5Em\\xd7\\x9cZ\\xc3m!\\x94\\xf39>\\xa6\\x90\\xd7\\xdd-\\xa9\\xf7\\x1e\\xf3\\x06T\\xd4\\x17\\xed\\xcd\\xac-LHI\\nQ>\\x98\\xab\\xb6\\xa4\\xd3\\x96M3h\\\\T\\xc0e\\x13\\x10\\xd8\\xe6\\xa4 %(\\xe9\\xf6\\x8e\\x95\\xf0\\xd07W\\xa0\\xddm\\r\\xc7t\\xb9\\x16`\\xe0\\xb6\\x8fT\\xa9\\x04\\xfbU\\x8eN\\x97\\x97a\\xdch\\xb3`4\\xb7\\x14\\xe2\\xb8:[\\x04\\x02\\xd9\\xf5?\\x8a\\xbaj}\\'\\x17VA\\x8e\\xa9<\\x94\\x88\\xdc\\x97\\xe1\\x8f\\xf3\\xe3\\xb0\\xaa-\\xa2\\xe6a\\xcfs\\xc4m1`\\xb4\\n\\x02\\x12\\x009\\xec\\rSW\\xa5\\xe2\\xea+\\xd4\\xe7\\xa54_\\x8a\\xc2\\x0f\\x87\\xe2\\xe7\\x88Q\\xf5\\xc7\\xb9\\xedYStt\\xaa\\xb4\\xce\\xa1XLECa\\xfc\\xad-\\x91\\xe5J\\xb3\\xe6H\\xf8\\xec\\x7fZ\\xa6QE{h\\x15(\\x00\\t$\\xe0\\x01\\xdf5\\xb3v\\x8fK5\\x0eLD\\xb9\\x15\\xe4\\xc6B\\x03Q\\x97!AK\\tH<A\\xe9\\xd0\\x8c\\x9c\\xfc\\x93V-Sh\\xd5\\x12\\xa7\\xa9M\\xd9\\xd0\\xe4T\\xab\\x8a\\xd4\\t\\xce3\\xd3\\x1d1\\xda\\xa4\\xf4\\xe6\\xd7]\\x93*5\\xca*~\\x95\\xd0\\xb0\\xa5\\x07:\\x15\\'\\xd8\\xa6\\x99\\xd2\\x1a\\xfa\\xa9\\x9fI86b\\x06\\xca\\x96^\\xe8?9=\\xaaR\\xcb\\x12\\x131\\xca\\xad\\xf2\\x19\\x97\\x1f?{k\\x0b\\x03\\xdf\\xb5/wKN\\xdd\\xa6\\xa2Z Y\\x1d}\\xe5\\xa7\\xfb\\x19- ,{u\\x00\\xfe{\\xd7.\\xd0h\\x9b\\xbd\\xa1\\xa6\\xfe\\xaa\\xce\\xb8\\x89e\\xc2\\x94=0\\x8c\\x84\\x92H\\xe2\\x9f\\xd4\\xd3V\\xe8\\xed\\xba\\xde\\xd0\\x8f\"CM\\xbb(\\x16\\xd3\\xe2\\x1c)_\\x8a\\xe6\\xb2Z\\xdb\\xb7\\xdb\\xc3>3\\x8e\\xf9\\x8e\\x0b\\x9d\\xf1U-K\\xa0\\xecL%\\xdb\\x95\\xc1\\xc9*e\\x04\\xa8\\xb2\\xd2\\xb3\\x93\\xf8\\x14\\xbf\\xbdn\\xe6\\x8d\\xd26\\xd7\"\\xb3\\r\\xd4\\x12\\xae\\xa9\\x92\\x15\\xcb\\xf9b\\x92\\xfb\\xe3>\\xc5\\xacm\\x0eO\\x83%/:Z.\\xf8-\\xa8\\x1e\\x18\\xeb\\xdf\\xd3\\xd7\\xa7\\xc5f\\xd3E\\x15`\\xdb\\xf4\\x17u\\xad\\x95\\x01hG)m\\xa7\\x92\\xfe\\xd1\\x93\\xeb[b\\xc3\\xad-\\xfbimj;/&\\\\\\xa7GD8\\xa0\\xb2\\x91\\xf1\\x9e\\xf5\\xf6;\\xed\\x7f\\x8a\\x1du\\xd8P\\xdd\\x8erR\\x94\\xb8\\x91\\xc4g\\xa6j\\xc9\\xa4\\xb7\\xd6-\\xf1\\xd4F\\x90\\xd2\\x1c\\x92\\xb2\\x02\\xc4PJZ\\x1f\\xea53\\xbb6\\x89\\x1a\\x83n/,\\xc0Z\\x95%Q\\xd4\\xa6\\xc2\\x0eI\\x03\\xae\\x06=\\xeb\\x0eh\\xed}\\xa8v\\xf6\\xee\\x89vy\\x8fDy\\n\\xc3\\x8d)D\\xa1`\\x7f\\x95I\\xf9\\xad\\xc7\\xb3\\xbb\\xddm\\xdd\\x1b#kJ\\x84{\\x9b\\\\S&2\\xbc\\xa3\\x96:\\x94\\x9fQS;\\x8b\\xbaV\\x1d\\xb8\\xb4\\xaee\\xceB|b\\ti\\x94\\x1eKY\\xf6\\x02\\xb1\\xa4\\xbd\\xc0\\xd4\\x1b\\xc3\\xba\\x16\\xc7\\xcb\\xcf2\\xa5JBc\\xc6eG\\x8b(\\xcfO\\xe9\\xeb[:\\xfd\\xa8\\x18\\xd2V\\x8f\\xa8\\x94\\xb4\\xa86\\x02PFTVq\\xec)cw\\xd5\\x91\\xf5\\xbcG%\\x0b\\xeb\\x96pG\\x17\\x19X\\xc0F=pGJ\\xa13\\xb7\\xf1.n>\\xfbWx\\xda\\x97\\x90\\xe8\\x97_\\x05c\\xe3\\x1e\\xb5\\xf2\\xbamZ-:nL\\xf91\\x18\\xb7+\\xb1\\x04\\x8f2\\x01\\xea1\\xf2\\t\\xac\\x83sCM\\xdcd\\xa5\\x91\\xc5\\xa4\\xba\\xb0\\x81\\x9c\\xe1<\\x8e?\\xa5sQRze%z\\x82\\xde\\x02\\x02\\xc9y>Uv=kJh\\xbd\\xa8\\x85.7\\xd5]^i\\xd7\\xd4y\\xa2:\\xdf-\\xa1 \\x8c\\xe0\\x1fZ\\xbe\\xc5\\xda\\xc4\\\\#\\xb9\\x1a\\x18\\xb6%<JHd\\x07\\x14\\x07\\xc9\\'\\xfej:&\\xd2Z\\xf4D\\xa59:\\xf4\\xf2\\\\_DD\\x8c\\xb2\\t\\xff\\x00o\\xfd\\xd3\\x9fo\\xed\\xff\\x00\\xbat\\x9bM)o\\xa9\\x04\\x1e\\x1fT\\xb2\\xa5\\x91\\x92rI\\xf5\\xebY\\xcf|\\xb6}v\\xfdB\\xbb\\xac8\\xcb\\xfa7\\xfc\\xeb\\xf0\\x93\\xf6\\xa8\\xfe:U#A\\tv5^\\x18C\\xab\\x8f-P\\xd4\\xfb\\\\3\\x94\\xa9\\x04\\x10G\\xe4\\x1cWv\\xbfbE\\xc7PLr\\\\\\x87$\\xb7\\x16#C\\x93\\x8a*\\xc2\\x96\\x90N\\x01\\xf94\\xcc\\xfd\\x9a\\xb6\\xfd\\xcbR\\\\\\xbcI\\x8f\\xfd\\xef\\x00\\xa7\\x98\\xc9l\\x1e\\xdf\\xad?u\\x02d?n+\\x88\\x96\\xd7!\\xaf0m\\xd1\\xc8(\\x0e\\xf5F\\xb6\\xc0\\xb0\\xeb\\xb2L\\xeb{1\\xa5\\xb0\\xb3\\xc9\\x08 %Dv\\xef\\xda\\xa1\\xee\\x16\\x16m\\x92\\x1euZM\\xc1\\xc3\\xec,\\xa8u\\x19\\xfe*\\xaek\\xad\\xc9\\x82t\\xdc\\x96\\xeep\\xdf\\xb5\\xae;jKl\\xb8\\x82\\xa5\\x14\\xe3\\xdf\\xa8?\\xce\\xb1\\\\\\xc7\\xc4\\x99O<\\x07\\x10\\xe2\\xd4\\xbc{d\\xe7\\x15\\xf1\\xa2\\xbe\\xd0\\xa5\\xbb\\x06SR\\x19W\\x17ZPZU\\x8e\\xc4V\\xdb\\xdbm\\x16So\\x8f?RM`EJ|\\xaauA\\x1c{\\xf9~j\\xfd\\'F\\xcf\\xba5\\xe1i\\xf9\\xd0a[\\x9c\\xfb\\xde\\x87\\xe6Z\\x87\\xc9\\xaa\\xba\\xf4z`\\xeaV\\x04+\\xfa\\xe5\\\\[8SrS\\xe2!]:\\x81\\xd3\\x00\\xd3i\\xb5\\x99\\x11@W\\x88\\x8f\\x0b\\tRR\\x9c\\x05\\x1a\\x8c\\xd7s![lK~`%\\x8f\\x0f\\x89F9\\x02=z{\\xd6d\\xb4\\xc9\\xb6\\\\5\\x9cG\\x99(n;\\xcd;\\x1c\\xe4\\xf7\\xcfj\\x8d\\xd4\\xfa\\x86#\\xba\\xb5\\xf6Y)qe\\xe6\\xe3\\xb6\\xd2z\\xe4#\\xa7\"~kQm\\xeb\\x01\\xbd;\\x9f\\x13\\x84\\x83\\x8ea\\xb0\\t\\xf7\\xab\\x04\\xe7\\x83Q|\\x00\\xe8iO\\x02\\x94\\xac\\xa4\\xf2\\x06\\x97v]\\xb7\\xb3^n3\\x00\\xb8\\xccrJ\\\\\\xcb\\xa1@\\xa4\\x13\\x9e\\xfd\\xf1S\\xd7\\x8b\\xa5\\xa3o`\\xaf\\xeb\\xa7N\\x08FJPI^G\\xc0\\xa5\\x96\\xf4_\\xadw\\xfd\\xb1\\x9du\\x80\\xf3\\x0c\\xc5v2\\xd2\\xb5\\xba\\x80\\x95)D\\x0e#\\xf2k\\x0f\\x9a(\\xa2\\xb5v\\xcaHN\\xe3i\\x88l^\\xae*\\x97\\x1e:\\x83km}\\x07!\\xdf\\x97\\xb9\\xc1\\x1f\\xce\\x9e\\x96-s\\xa44\\x89E\\x9e\\xde\\xea|\\xeb\\t\\x08H\\xe8}?\\x95O\\r\\xbf\\x8a\\x8b\\xf3Wh\\nZ\\x1ctr[aC\\x89\\xcf~\\xb5<\\xfcG[\\x0b\\xe4\\x0f>\\x84!J\\xe8?\\x04R\\xeb]O\\\\\\xe8\\xf2\\x18ZP\\xdbM!D\\'$\\x9f\\xd4\\xd69\\xb5-i\\xd5\\x01\\xb2\\xb5q\\xfa\\x85+#\\xdf5\\xdb\\xa2\\xc3\\x07_\\xc6\\x12~\\xdf\\xa9V\\n\\x8f\\xcf\\xa9\\xad\\x97\\xa0%8\\xe4\\xc5\\xb4\\xda\\x8a\\x90\\xa4\\xf9\\x863\\x81\\xee*\\xda\\xd3\\xcf\\xbb~\\xfag\">\\xa8\\xf8\\xc7\\x89\\xc4\\x04~A\\xafW\\xb9\\x104\\x84)S>\\x95@+\\xab\\x8ae\\x04\\xa9UV\\x7fT\\xdbo\\x96\\xa2\\xf4&\\x1b\\xb8-\\x1d\\xd9w\\xfc@=qY7\\xf6\\x90\\xbf2\\xcbL[\\xe1\\xb2\\xb8\\x8d\\xcb>+\\x8c\\x05a \\xa4\\xe4\\x1e>\\xff\\x00?\\x9a@QE\\x14\\xcf\\xd8\\xfb\\xfcK}\\xdaDK\\x95\\xcd\\xe8V\\xf7\\x11\\xcc\\xb6\\xd2\\x88\\xe6\\xaf^\\xdf\\x00V\\x96\\xb2k\\x1b\\r\\xa5\\xe8\\xed[\\xb4\\xe3\\x8f\\xb3\\x80S!\\xf6\\x94\\xa2\\xb3\\xef\\xf3N\\xdd\\r\\xa8\\x9d\\xbe\\xc4[\\xdfB\\xb8hA\\xc2P\\xe2q\\xd3\\xe0T\\xea\\xd2D\\x9ed\\xe4\\x95\\x0c\\xf4\\xc7CJ\\x8d\\xd0\\xd3w4:\\xfbVx\\xdf\\\\\\xf4\\xd7<6\\xd0\\x93\\x8f\\x0b>\\xaa\\xf8\\x1d\\xeb\\x97Mm\\xce\\x86\\xdah\\xf0Q{f<\\xdb\\xdc\\xb5\\x80\\xe4\\x89\\x03\\x91*=\\xf8\\xe7\\xa0\\x02\\xa0\\xf7C\\xf6k\\x85\\xa8\\xddE\\xf3E-\\x883\\xc1\\xf1K!Xm\\xd3\\xdf \\xfa\\x1abmm\\x9e\\xe1o\\xb3$\\xddYK\\x13\\x94\\xdf\\x86\\xe6;\\xa4\\x8fj\\xb9\\xb7 \\xdb\\xdbZ\\xbcB\\xe9\\x03<q\\xd4\\xd5A:\\xfa=\\xe2\\xe7\\xe0Hi\\xf6\\x87.$/\\xec\\xfc\\x1aM\\xee\\xd4\\x87t\\xea\\xa4\\xdcmV\\xa9p\\xe74\\xa2R\\xe3X[k\\x19\\xeeF{VP\\xdcMW\\'W\\xea5\\xcc\\x94\\xaeN!\\xb4\\xb2\\x0f\\x1e=\\x06Oo\\xd4\\xd5b\\x8a(\\xa9M1tn\\xcd~\\x851\\xe4si\\xa7AX\\xc6|\\xbd\\x89\\x03\\xdf\\x15\\xbe\\xf4]\\xfa\\xd8\\x9b\\x13R\\x18q\\x9b\\xaa\\nB\\x9aH@\\xc7\\x1c\\x0c`\\xfa\\xe6\\xa5Q\\xbb\\xd7\\x16\\xe56\\xc4k\\n\\x90\\xd2H+qc\\x01#\\xe2\\xaePu?\\xef\\x85\\xb4\\xa6c\\xa9-(\\xe0\\xad\\x04,$\\xfb\\x13\\xff\\x00u=/\\x8bEn\\x10\\xdaS\\xc7\\xce\\xe1P\\x00\\x0fZEo=\\x95\\xab\\xc8]\\xca$\\x96\\xe5!\\xf6\\xfc4\\x90\\xa0|2\\x9f0\\xfcd\\x8e\\xf53\\xb3z\\xe1\\xb9\\xac\\xb3j\\x11T\\x92R]\\x0e\\xa9g\\xb9H\\xe9\\xf3MTLi\\xb7\\x1a\\x0bQ<\\xceA\\xc7L\\x81\\xd7&\\xbe\\xd2\\x8c6\\x99\\xf1\\x94\\xb6\\xfc\"2\\\\*\\xc0\\x03\\xd7\\'\\xda\\x92\\xbb\\x89\\xa2\\x92\\xf2\\x17p\\xb4\\xdd]LwTs\\xf4\\xcer)W\\xc7\\xc5$\\xb79\\xdb\\xc6\\x87\\xd3n\\xc9\\x91\\xa8\\xe4>\\x1d\\x1e\\x13q\\xe4$eD\\xfa\\'\\xa7N\\x99?\\xa5fW\\x1cS\\xae)kQR\\x94rI\\xf55\\xe6\\x8a(\\xa2\\x99;W\\xafdZ\\'\\xc4\\x82\\xa9\\x02:9\\x10\\x87W\\x95$\\x0e\\xfcJs\\xfc\\xabO\\xda/6\\xdb\\xabh[\\xda\\x9f\\x8b=y!\\xb6\\xfd=\\x85]\\xf4\\xa6\\xe0\\xda-2\\xd8\\xb4\\xda\\xa1>\\xe3o,\\x17\\x1e{\\x00\\xac\\xf6\\xe5\\xd6\\x99W\\xb8\\x89\\x9dn\\x93\\x19k\\xca]l\\xa0\\x94\\x9e\\xa3=\\xff\\x00\\x95g}O\\xa6/:j,\\xa6c>\\xdd\\xc22G\"\\x0b\\xa0\\x91\\xe9\\x82?\\x1f\\x8a\\xe6\\xd1Z\\x96J\\xe2\\xc3\\x89hZ\\x04\\xc5\\xa1(\\\\\\xa4\\xa4\\x80\\x90\\t\\x05#=\\xb1\\xedZ!\\x98\\xcar\\xca\\x96\\xdfX \\xb5\\xc5kI\\xc6I\\x1dMU\\xe2*\\xd9\\x1a\\xd5p\\xb6\\x9b\\x87\\xd4\\xc4O\\x95\\xf6\\x9c>dR\\x9a\\xef\\xaaF\\xd7N\\x11\\xdap\\xcd\\xb6KW\\x16\\xdb>|(\\xf6\\xe9Y{x\\xb7!\\xfd\\xc1\\xd5\\ny.f\\x0c|\\xa1\\x84\\xe3\\x00\\x93\\x8eJ\\xfdq\\x8f\\xc0\\xaa\\r\\x14QE\\x14\\x02A\\xc8\\xa6>\\xd9\\xeb\\x8bu\\xb2\\xf1\\x19W\\xbea\\xa6\\xb3\\x85\\x8e\\xa1^\\xc0\\x8a\\xd1\\xbaJ\\xea\\xadk)\\x89\\xcc?\\x1e\\x0c6\\xd7\\xe4Y\\xfb\\x94\\x91\\xf3\\xdb\\xe2\\x99\\xb6m\\xd5\\\\\\xab\\xbc\\xf0\\xe7\\x86-pZ \\x84\\x8c\\xb8\\xe1\\xe9\\x8a\\xab\\xeb\\xe9\\x16\\x9b\\xf4\\x05\\xea\\x0b\\x1c\\xcf\\xa6y@\\xa5\\xd6\\xd4:\\xf2\\xc7\\xa8\\xaf\\xb6\\xcfY`H\\xb4-N%.\\xf1\\x01eH\\xe9\\xc8\\x9e\\xa6\\xad6\\x9d\\xc2~u\\xf2}\\xa7\\x82c\\xb0\\xda\\x08a\\nO@G\\xc9\\xf7\\xa4v\\xba\\xdc\\xa9:7Q8\\xb7[d0\\xfa\\x08{* c=\\xc5!u\\xbe\\xe7?~\\x94\\xe7\\xd1\\x97\\x19\\x05\\xc2\\xa1#\\x9a\\x82\\xc2q\\x8e)\\xfe\\x11\\xfdj\\x84\\xa2\\t\\xe81E\\x14QE\\x14QS\\x9as[^\\xb4\\xa2\\xf3l\\x9e\\xect\\x1f\\xb9\\xbf\\xb9\\x07\\xff\\x00\\x93\\xd2\\xafZ_\\x7f&\\xe9\\xf6\\xdf\\x0f\\xdbY\\x98\\xb7\\x89Z\\x9dK\\x8aB\\x8a\\x8f\\xbes\\xd3\\xe2\\xbcj=\\xe6f\\xe3gi\\xabl9\\xb0\\xee\\x0e\\xadJ\\x96\\xb9\\x13\\x03\\x8c(z%\\xb6\\xd2\\x84\\xf1\\x1e\\xe4\\xa8\\x9a\\xe9\\xd2\\xbf\\xb4\\x85\\xf7MEz?\\xd32\\xe3N\\x0c\\x0f\\x05Jh\\xa7\\xfa\\x9e\\x95\\n\\xfe\\xf8\\xeau\\\\_\\x96\\xcc\\xb4\\xb4\\xa7\\x01JB\\x90\\x17\\xc0|g\\xd7\\xf4\\xaae\\xe6\\xfdp\\xd43\\x15*\\xe51\\xe9\\x8f\\xab\\xfc\\xee\\xab8\\xfc\\x0e\\xc3\\xf4\\xae\\n(\\xa2\\x8a(\\xa2\\x8a(\\xa2\\x8a(\\xa2\\x8a(\\xa2\\x8a\\xff\\xd9', 'path': 'non_3037.jpg'}\n"
          ]
        }
      ]
    },
    {
      "cell_type": "code",
      "source": [
        "import numpy as np\n",
        "import cv2\n",
        "from PIL import Image\n",
        "from io import BytesIO\n",
        "\n",
        "IMG_SIZE = 128 # Resized images-scale\n",
        "TOTAL_CLASSES = 4 # Total classes in this model\n",
        "\n",
        "def process_image(bin_image):\n",
        "    # Decode a binary image into a matrice\n",
        "    img = Image.open(BytesIO(bin_image['bytes']))\n",
        "    img = img.resize((IMG_SIZE, IMG_SIZE)) # We neglect aspect ratio differs\n",
        "    img = img.convert('RGB') # Ensure 3 color channels\n",
        "    img_arr = np.array(img)\n",
        "    return img_arr\n",
        "\n",
        "# Process all dataframe images\n",
        "train_images = np.array([ process_image(img_data) for img_data in train_df['image'] ])\n",
        "test_images = np.array([ process_image(img_data) for img_data in test_df['image'] ])\n",
        "\n",
        "# Normalize all pixel colors\n",
        "train_images = train_images / 255.0\n",
        "test_images = test_images / 255.0\n",
        "\n",
        "# Extract all image labels\n",
        "train_labels = train_df['label'].values\n",
        "test_labels = test_df['label'].values"
      ],
      "metadata": {
        "id": "jrzL7il9Dc-r"
      },
      "execution_count": 10,
      "outputs": []
    },
    {
      "cell_type": "code",
      "source": [
        "from sklearn.preprocessing import LabelEncoder\n",
        "from tensorflow.keras.utils import to_categorical\n",
        "\n",
        "# Since we are working on a multi-class classification we must use categorical regression\n",
        "le = LabelEncoder()\n",
        "train_labels = le.fit_transform(train_labels)\n",
        "test_labels = le.transform(test_labels)\n",
        "\n",
        "# All labels are now converted into one-hot encoding for all different classes\n",
        "train_labels = to_categorical(train_labels, num_classes=TOTAL_CLASSES)\n",
        "test_labels = to_categorical(test_labels, num_classes=TOTAL_CLASSES)"
      ],
      "metadata": {
        "id": "3_yudJb2Dh2r"
      },
      "execution_count": 11,
      "outputs": []
    },
    {
      "cell_type": "code",
      "source": [
        "import tensorflow as tf\n",
        "from tensorflow.keras.models import Sequential\n",
        "from tensorflow.keras.layers import Conv2D, MaxPooling2D, Flatten, Dense, Dropout\n",
        "from tensorflow.keras.preprocessing.image import ImageDataGenerator\n",
        "\n",
        "# Now we will finally construct the convolutional layers of our neural network\n",
        "# The flow of our network is going from small convulutional filters into bigger ones\n",
        "\n",
        "# We prefer relu over other activation functions due to optimization purposes.\n",
        "model = Sequential([\n",
        "    # 1st convolution layer\n",
        "    Conv2D(32, (3, 3), activation='relu', input_shape=(IMG_SIZE, IMG_SIZE, 3)),\n",
        "    MaxPooling2D((2, 2)),\n",
        "\n",
        "    # 2nd convolution layer\n",
        "    Conv2D(64, (3, 3), activation='relu'),\n",
        "    MaxPooling2D((2, 2)),\n",
        "\n",
        "    # 3rd convolutional layer\n",
        "    Conv2D(128, (3, 3), activation='relu'),\n",
        "    MaxPooling2D((2, 2)),\n",
        "\n",
        "    # Flatten the output and convert all features into vectors\n",
        "    Flatten(),\n",
        "\n",
        "    # Fully connected layer\n",
        "    Dense(128, activation='relu'),\n",
        "    Dropout(0.5), # Avoid overfitting by making the model not overly sensitive to noise\n",
        "\n",
        "    # Output layer\n",
        "    Dense(TOTAL_CLASSES, activation='softmax') # Finally output the classifer out of all 4 classes\n",
        "])\n",
        "\n",
        "model.summary() # Visualize the model's contents"
      ],
      "metadata": {
        "colab": {
          "base_uri": "https://localhost:8080/",
          "height": 531
        },
        "id": "l80kweVXJnY2",
        "outputId": "36a4109f-4ee6-4d31-ff6c-23b1e74cc5e6"
      },
      "execution_count": 15,
      "outputs": [
        {
          "output_type": "stream",
          "name": "stderr",
          "text": [
            "/usr/local/lib/python3.10/dist-packages/keras/src/layers/convolutional/base_conv.py:107: UserWarning: Do not pass an `input_shape`/`input_dim` argument to a layer. When using Sequential models, prefer using an `Input(shape)` object as the first layer in the model instead.\n",
            "  super().__init__(activity_regularizer=activity_regularizer, **kwargs)\n"
          ]
        },
        {
          "output_type": "display_data",
          "data": {
            "text/plain": [
              "\u001b[1mModel: \"sequential\"\u001b[0m\n"
            ],
            "text/html": [
              "<pre style=\"white-space:pre;overflow-x:auto;line-height:normal;font-family:Menlo,'DejaVu Sans Mono',consolas,'Courier New',monospace\"><span style=\"font-weight: bold\">Model: \"sequential\"</span>\n",
              "</pre>\n"
            ]
          },
          "metadata": {}
        },
        {
          "output_type": "display_data",
          "data": {
            "text/plain": [
              "┏━━━━━━━━━━━━━━━━━━━━━━━━━━━━━━━━━━━━━━┳━━━━━━━━━━━━━━━━━━━━━━━━━━━━━┳━━━━━━━━━━━━━━━━━┓\n",
              "┃\u001b[1m \u001b[0m\u001b[1mLayer (type)                        \u001b[0m\u001b[1m \u001b[0m┃\u001b[1m \u001b[0m\u001b[1mOutput Shape               \u001b[0m\u001b[1m \u001b[0m┃\u001b[1m \u001b[0m\u001b[1m        Param #\u001b[0m\u001b[1m \u001b[0m┃\n",
              "┡━━━━━━━━━━━━━━━━━━━━━━━━━━━━━━━━━━━━━━╇━━━━━━━━━━━━━━━━━━━━━━━━━━━━━╇━━━━━━━━━━━━━━━━━┩\n",
              "│ conv2d (\u001b[38;5;33mConv2D\u001b[0m)                      │ (\u001b[38;5;45mNone\u001b[0m, \u001b[38;5;34m126\u001b[0m, \u001b[38;5;34m126\u001b[0m, \u001b[38;5;34m32\u001b[0m)        │             \u001b[38;5;34m896\u001b[0m │\n",
              "├──────────────────────────────────────┼─────────────────────────────┼─────────────────┤\n",
              "│ max_pooling2d (\u001b[38;5;33mMaxPooling2D\u001b[0m)         │ (\u001b[38;5;45mNone\u001b[0m, \u001b[38;5;34m63\u001b[0m, \u001b[38;5;34m63\u001b[0m, \u001b[38;5;34m32\u001b[0m)          │               \u001b[38;5;34m0\u001b[0m │\n",
              "├──────────────────────────────────────┼─────────────────────────────┼─────────────────┤\n",
              "│ conv2d_1 (\u001b[38;5;33mConv2D\u001b[0m)                    │ (\u001b[38;5;45mNone\u001b[0m, \u001b[38;5;34m61\u001b[0m, \u001b[38;5;34m61\u001b[0m, \u001b[38;5;34m64\u001b[0m)          │          \u001b[38;5;34m18,496\u001b[0m │\n",
              "├──────────────────────────────────────┼─────────────────────────────┼─────────────────┤\n",
              "│ max_pooling2d_1 (\u001b[38;5;33mMaxPooling2D\u001b[0m)       │ (\u001b[38;5;45mNone\u001b[0m, \u001b[38;5;34m30\u001b[0m, \u001b[38;5;34m30\u001b[0m, \u001b[38;5;34m64\u001b[0m)          │               \u001b[38;5;34m0\u001b[0m │\n",
              "├──────────────────────────────────────┼─────────────────────────────┼─────────────────┤\n",
              "│ conv2d_2 (\u001b[38;5;33mConv2D\u001b[0m)                    │ (\u001b[38;5;45mNone\u001b[0m, \u001b[38;5;34m28\u001b[0m, \u001b[38;5;34m28\u001b[0m, \u001b[38;5;34m128\u001b[0m)         │          \u001b[38;5;34m73,856\u001b[0m │\n",
              "├──────────────────────────────────────┼─────────────────────────────┼─────────────────┤\n",
              "│ max_pooling2d_2 (\u001b[38;5;33mMaxPooling2D\u001b[0m)       │ (\u001b[38;5;45mNone\u001b[0m, \u001b[38;5;34m14\u001b[0m, \u001b[38;5;34m14\u001b[0m, \u001b[38;5;34m128\u001b[0m)         │               \u001b[38;5;34m0\u001b[0m │\n",
              "├──────────────────────────────────────┼─────────────────────────────┼─────────────────┤\n",
              "│ flatten (\u001b[38;5;33mFlatten\u001b[0m)                    │ (\u001b[38;5;45mNone\u001b[0m, \u001b[38;5;34m25088\u001b[0m)               │               \u001b[38;5;34m0\u001b[0m │\n",
              "├──────────────────────────────────────┼─────────────────────────────┼─────────────────┤\n",
              "│ dense (\u001b[38;5;33mDense\u001b[0m)                        │ (\u001b[38;5;45mNone\u001b[0m, \u001b[38;5;34m128\u001b[0m)                 │       \u001b[38;5;34m3,211,392\u001b[0m │\n",
              "├──────────────────────────────────────┼─────────────────────────────┼─────────────────┤\n",
              "│ dropout (\u001b[38;5;33mDropout\u001b[0m)                    │ (\u001b[38;5;45mNone\u001b[0m, \u001b[38;5;34m128\u001b[0m)                 │               \u001b[38;5;34m0\u001b[0m │\n",
              "├──────────────────────────────────────┼─────────────────────────────┼─────────────────┤\n",
              "│ dense_1 (\u001b[38;5;33mDense\u001b[0m)                      │ (\u001b[38;5;45mNone\u001b[0m, \u001b[38;5;34m4\u001b[0m)                   │             \u001b[38;5;34m516\u001b[0m │\n",
              "└──────────────────────────────────────┴─────────────────────────────┴─────────────────┘\n"
            ],
            "text/html": [
              "<pre style=\"white-space:pre;overflow-x:auto;line-height:normal;font-family:Menlo,'DejaVu Sans Mono',consolas,'Courier New',monospace\">┏━━━━━━━━━━━━━━━━━━━━━━━━━━━━━━━━━━━━━━┳━━━━━━━━━━━━━━━━━━━━━━━━━━━━━┳━━━━━━━━━━━━━━━━━┓\n",
              "┃<span style=\"font-weight: bold\"> Layer (type)                         </span>┃<span style=\"font-weight: bold\"> Output Shape                </span>┃<span style=\"font-weight: bold\">         Param # </span>┃\n",
              "┡━━━━━━━━━━━━━━━━━━━━━━━━━━━━━━━━━━━━━━╇━━━━━━━━━━━━━━━━━━━━━━━━━━━━━╇━━━━━━━━━━━━━━━━━┩\n",
              "│ conv2d (<span style=\"color: #0087ff; text-decoration-color: #0087ff\">Conv2D</span>)                      │ (<span style=\"color: #00d7ff; text-decoration-color: #00d7ff\">None</span>, <span style=\"color: #00af00; text-decoration-color: #00af00\">126</span>, <span style=\"color: #00af00; text-decoration-color: #00af00\">126</span>, <span style=\"color: #00af00; text-decoration-color: #00af00\">32</span>)        │             <span style=\"color: #00af00; text-decoration-color: #00af00\">896</span> │\n",
              "├──────────────────────────────────────┼─────────────────────────────┼─────────────────┤\n",
              "│ max_pooling2d (<span style=\"color: #0087ff; text-decoration-color: #0087ff\">MaxPooling2D</span>)         │ (<span style=\"color: #00d7ff; text-decoration-color: #00d7ff\">None</span>, <span style=\"color: #00af00; text-decoration-color: #00af00\">63</span>, <span style=\"color: #00af00; text-decoration-color: #00af00\">63</span>, <span style=\"color: #00af00; text-decoration-color: #00af00\">32</span>)          │               <span style=\"color: #00af00; text-decoration-color: #00af00\">0</span> │\n",
              "├──────────────────────────────────────┼─────────────────────────────┼─────────────────┤\n",
              "│ conv2d_1 (<span style=\"color: #0087ff; text-decoration-color: #0087ff\">Conv2D</span>)                    │ (<span style=\"color: #00d7ff; text-decoration-color: #00d7ff\">None</span>, <span style=\"color: #00af00; text-decoration-color: #00af00\">61</span>, <span style=\"color: #00af00; text-decoration-color: #00af00\">61</span>, <span style=\"color: #00af00; text-decoration-color: #00af00\">64</span>)          │          <span style=\"color: #00af00; text-decoration-color: #00af00\">18,496</span> │\n",
              "├──────────────────────────────────────┼─────────────────────────────┼─────────────────┤\n",
              "│ max_pooling2d_1 (<span style=\"color: #0087ff; text-decoration-color: #0087ff\">MaxPooling2D</span>)       │ (<span style=\"color: #00d7ff; text-decoration-color: #00d7ff\">None</span>, <span style=\"color: #00af00; text-decoration-color: #00af00\">30</span>, <span style=\"color: #00af00; text-decoration-color: #00af00\">30</span>, <span style=\"color: #00af00; text-decoration-color: #00af00\">64</span>)          │               <span style=\"color: #00af00; text-decoration-color: #00af00\">0</span> │\n",
              "├──────────────────────────────────────┼─────────────────────────────┼─────────────────┤\n",
              "│ conv2d_2 (<span style=\"color: #0087ff; text-decoration-color: #0087ff\">Conv2D</span>)                    │ (<span style=\"color: #00d7ff; text-decoration-color: #00d7ff\">None</span>, <span style=\"color: #00af00; text-decoration-color: #00af00\">28</span>, <span style=\"color: #00af00; text-decoration-color: #00af00\">28</span>, <span style=\"color: #00af00; text-decoration-color: #00af00\">128</span>)         │          <span style=\"color: #00af00; text-decoration-color: #00af00\">73,856</span> │\n",
              "├──────────────────────────────────────┼─────────────────────────────┼─────────────────┤\n",
              "│ max_pooling2d_2 (<span style=\"color: #0087ff; text-decoration-color: #0087ff\">MaxPooling2D</span>)       │ (<span style=\"color: #00d7ff; text-decoration-color: #00d7ff\">None</span>, <span style=\"color: #00af00; text-decoration-color: #00af00\">14</span>, <span style=\"color: #00af00; text-decoration-color: #00af00\">14</span>, <span style=\"color: #00af00; text-decoration-color: #00af00\">128</span>)         │               <span style=\"color: #00af00; text-decoration-color: #00af00\">0</span> │\n",
              "├──────────────────────────────────────┼─────────────────────────────┼─────────────────┤\n",
              "│ flatten (<span style=\"color: #0087ff; text-decoration-color: #0087ff\">Flatten</span>)                    │ (<span style=\"color: #00d7ff; text-decoration-color: #00d7ff\">None</span>, <span style=\"color: #00af00; text-decoration-color: #00af00\">25088</span>)               │               <span style=\"color: #00af00; text-decoration-color: #00af00\">0</span> │\n",
              "├──────────────────────────────────────┼─────────────────────────────┼─────────────────┤\n",
              "│ dense (<span style=\"color: #0087ff; text-decoration-color: #0087ff\">Dense</span>)                        │ (<span style=\"color: #00d7ff; text-decoration-color: #00d7ff\">None</span>, <span style=\"color: #00af00; text-decoration-color: #00af00\">128</span>)                 │       <span style=\"color: #00af00; text-decoration-color: #00af00\">3,211,392</span> │\n",
              "├──────────────────────────────────────┼─────────────────────────────┼─────────────────┤\n",
              "│ dropout (<span style=\"color: #0087ff; text-decoration-color: #0087ff\">Dropout</span>)                    │ (<span style=\"color: #00d7ff; text-decoration-color: #00d7ff\">None</span>, <span style=\"color: #00af00; text-decoration-color: #00af00\">128</span>)                 │               <span style=\"color: #00af00; text-decoration-color: #00af00\">0</span> │\n",
              "├──────────────────────────────────────┼─────────────────────────────┼─────────────────┤\n",
              "│ dense_1 (<span style=\"color: #0087ff; text-decoration-color: #0087ff\">Dense</span>)                      │ (<span style=\"color: #00d7ff; text-decoration-color: #00d7ff\">None</span>, <span style=\"color: #00af00; text-decoration-color: #00af00\">4</span>)                   │             <span style=\"color: #00af00; text-decoration-color: #00af00\">516</span> │\n",
              "└──────────────────────────────────────┴─────────────────────────────┴─────────────────┘\n",
              "</pre>\n"
            ]
          },
          "metadata": {}
        },
        {
          "output_type": "display_data",
          "data": {
            "text/plain": [
              "\u001b[1m Total params: \u001b[0m\u001b[38;5;34m3,305,156\u001b[0m (12.61 MB)\n"
            ],
            "text/html": [
              "<pre style=\"white-space:pre;overflow-x:auto;line-height:normal;font-family:Menlo,'DejaVu Sans Mono',consolas,'Courier New',monospace\"><span style=\"font-weight: bold\"> Total params: </span><span style=\"color: #00af00; text-decoration-color: #00af00\">3,305,156</span> (12.61 MB)\n",
              "</pre>\n"
            ]
          },
          "metadata": {}
        },
        {
          "output_type": "display_data",
          "data": {
            "text/plain": [
              "\u001b[1m Trainable params: \u001b[0m\u001b[38;5;34m3,305,156\u001b[0m (12.61 MB)\n"
            ],
            "text/html": [
              "<pre style=\"white-space:pre;overflow-x:auto;line-height:normal;font-family:Menlo,'DejaVu Sans Mono',consolas,'Courier New',monospace\"><span style=\"font-weight: bold\"> Trainable params: </span><span style=\"color: #00af00; text-decoration-color: #00af00\">3,305,156</span> (12.61 MB)\n",
              "</pre>\n"
            ]
          },
          "metadata": {}
        },
        {
          "output_type": "display_data",
          "data": {
            "text/plain": [
              "\u001b[1m Non-trainable params: \u001b[0m\u001b[38;5;34m0\u001b[0m (0.00 B)\n"
            ],
            "text/html": [
              "<pre style=\"white-space:pre;overflow-x:auto;line-height:normal;font-family:Menlo,'DejaVu Sans Mono',consolas,'Courier New',monospace\"><span style=\"font-weight: bold\"> Non-trainable params: </span><span style=\"color: #00af00; text-decoration-color: #00af00\">0</span> (0.00 B)\n",
              "</pre>\n"
            ]
          },
          "metadata": {}
        }
      ]
    },
    {
      "cell_type": "code",
      "source": [
        "model.compile(\n",
        "    optimizer='adam', # Optimizer\n",
        "    loss='categorical_crossentropy',\n",
        "    metrics=['accuracy'] # Monitor solely the accuracy of the model\n",
        ")"
      ],
      "metadata": {
        "id": "43GU1T1_LFCB"
      },
      "execution_count": 16,
      "outputs": []
    },
    {
      "cell_type": "code",
      "source": [
        "from tensorflow.keras.callbacks import EarlyStopping\n",
        "\n",
        "# Prevent overfitting during the training part when the model does not get substantially more accurate\n",
        "early_stopping = EarlyStopping(monitor='val_loss', patience=5, restore_best_weights=True)\n",
        "\n",
        "# We finally can train our CNN model\n",
        "history = model.fit(\n",
        "    train_images, # All the matrice images\n",
        "    train_labels, # All the labels\n",
        "    epochs=20, # The amount of repeats for the backpropogation process\n",
        "    batch_size=32,\n",
        "    validation_split=0.2, # Give in 20% for validation\n",
        "    shuffle=True, # Randomly iterate through the images to not provide a heuristic bias\n",
        "    callbacks=[early_stopping] # Apply an early stopping callback to prevent overfitting\n",
        ")\n",
        "\n",
        "model.save('/content/drive/My Drive/Trained Models/Alzheimer')"
      ],
      "metadata": {
        "colab": {
          "base_uri": "https://localhost:8080/"
        },
        "id": "6hcy2J3hLWJk",
        "outputId": "dcdc0050-6cd0-445a-aa7a-cb5ef3c4c0ac"
      },
      "execution_count": null,
      "outputs": [
        {
          "output_type": "stream",
          "name": "stdout",
          "text": [
            "Epoch 1/20\n",
            "\u001b[1m123/128\u001b[0m \u001b[32m━━━━━━━━━━━━━━━━━━━\u001b[0m\u001b[37m━\u001b[0m \u001b[1m5s\u001b[0m 1s/step - accuracy: 0.5774 - loss: 0.9043"
          ]
        }
      ]
    },
    {
      "cell_type": "code",
      "source": [
        "# After our model is finally trained, we can now predict the model on unique images it has likely never seen\n",
        "def preprocess_image(image_path):\n",
        "    # Preprocesses a prediction image\n",
        "    img = Image.open(image_path)\n",
        "    img = img.resize((IMG_SIZE, IMG_SIZE))  # Resize to match model input size\n",
        "    img = img.convert('RGB')  # Ensure the image has 3 channels\n",
        "    img_arr = np.array(img) / 255.0  # Normalize the image color channels\n",
        "    img_arr = np.expand_dims(img_arr, axis=0)  # Add batch dimension\n",
        "    return img_arr"
      ],
      "metadata": {
        "id": "1W1Dy8pnROR1"
      },
      "execution_count": 17,
      "outputs": []
    },
    {
      "cell_type": "code",
      "source": [
        "test_image = preprocess_image('/content/normal_brain.jpg') # Ensure there is a valid image path\n",
        "predictions = model.predict(test_image)\n",
        "print(predictions) # We can finally see the predictions of our model!"
      ],
      "metadata": {
        "colab": {
          "base_uri": "https://localhost:8080/"
        },
        "id": "96BYpkHJTCZC",
        "outputId": "1366b3a5-eb64-49e9-a65f-79d3a2fea02f"
      },
      "execution_count": 24,
      "outputs": [
        {
          "output_type": "stream",
          "name": "stdout",
          "text": [
            "\u001b[1m1/1\u001b[0m \u001b[32m━━━━━━━━━━━━━━━━━━━━\u001b[0m\u001b[37m\u001b[0m \u001b[1m0s\u001b[0m 42ms/step\n",
            "[[0.03860325 0.00441601 0.6017757  0.3552051 ]]\n",
            "[0. 0. 0. 1.]\n"
          ]
        }
      ]
    },
    {
      "cell_type": "code",
      "source": [],
      "metadata": {
        "id": "vLAaictwHVGq"
      },
      "execution_count": null,
      "outputs": []
    }
  ]
}